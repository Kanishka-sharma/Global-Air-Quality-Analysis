{
 "cells": [
  {
   "cell_type": "markdown",
   "id": "91b7cb60",
   "metadata": {},
   "source": [
    "# Global Air Quality Analysis  \n"
   ]
  },
  {
   "cell_type": "markdown",
   "id": "1f5c15e9",
   "metadata": {},
   "source": [
    "## Data Loading, Cleaning & Initial Exploration\n",
    "\n",
    "This section begins the analysis by setting up the environment and exploring the structure of the dataset.  \n",
    "The dataset captures **monthly atmospheric gas concentrations** (CO₂, CO, Methane, Nitrous Oxide, and CFC-11) observed at the Mauna Loa Observatory from 2000-2019.  \n",
    "Our first step is to load the data, remove non-analytical columns (`Date`), and understand the distribution and quality of the variables.\n"
   ]
  },
  {
   "cell_type": "code",
   "execution_count": 85,
   "id": "4e6ea3f9",
   "metadata": {
    "vscode": {
     "languageId": "r"
    }
   },
   "outputs": [],
   "source": [
    "# Loading all the required libraries for our analysis\n",
    "library(dplyr)\n",
    "library(corrplot)\n",
    "library(VIM)\n",
    "library(ggplot2)\n",
    "library(gridExtra)  \n",
    "library(mice)\n",
    "library(FactoMineR)\n",
    "library(factoextra)\n",
    "library(cluster)    \n",
    "library(mclust)\n",
    "library(naniar)\n",
    "library(abind)\n",
    "\n"
   ]
  },
  {
   "cell_type": "code",
   "execution_count": null,
   "id": "c069c9dc",
   "metadata": {
    "vscode": {
     "languageId": "r"
    }
   },
   "outputs": [],
   "source": [
    "# Loading the given dataset\n",
    "data <- read.csv(\"data/MaunaLoa_miss.csv\")"
   ]
  },
  {
   "cell_type": "code",
   "execution_count": 87,
   "id": "094631fb",
   "metadata": {
    "vscode": {
     "languageId": "r"
    }
   },
   "outputs": [],
   "source": [
    "# Dropping the `Date` column (not to be considered for analysis)\n",
    "data <- data %>% select(-Date)"
   ]
  },
  {
   "cell_type": "code",
   "execution_count": 88,
   "id": "a298a8c7",
   "metadata": {
    "vscode": {
     "languageId": "r"
    }
   },
   "outputs": [
    {
     "data": {
      "text/html": [
       "<table class=\"dataframe\">\n",
       "<caption>A data.frame: 6 × 5</caption>\n",
       "<thead>\n",
       "\t<tr><th></th><th scope=col>CO</th><th scope=col>CO2</th><th scope=col>Methane</th><th scope=col>NitrousOx</th><th scope=col>CFC11</th></tr>\n",
       "\t<tr><th></th><th scope=col>&lt;dbl&gt;</th><th scope=col>&lt;dbl&gt;</th><th scope=col>&lt;dbl&gt;</th><th scope=col>&lt;dbl&gt;</th><th scope=col>&lt;dbl&gt;</th></tr>\n",
       "</thead>\n",
       "<tbody>\n",
       "\t<tr><th scope=row>1</th><td>107.36</td><td>369.76</td><td>1802.15</td><td>315.54</td><td>260.92</td></tr>\n",
       "\t<tr><th scope=row>2</th><td>110.35</td><td>370.28</td><td>1793.96</td><td>315.78</td><td>260.80</td></tr>\n",
       "\t<tr><th scope=row>3</th><td>114.45</td><td>371.00</td><td>1791.82</td><td>315.70</td><td>260.67</td></tr>\n",
       "\t<tr><th scope=row>4</th><td>107.21</td><td>371.95</td><td>1786.89</td><td>315.79</td><td>260.46</td></tr>\n",
       "\t<tr><th scope=row>5</th><td> 93.18</td><td>372.05</td><td>1773.99</td><td>315.76</td><td>260.21</td></tr>\n",
       "\t<tr><th scope=row>6</th><td> 82.84</td><td>    NA</td><td>1772.28</td><td>316.03</td><td>260.21</td></tr>\n",
       "</tbody>\n",
       "</table>\n"
      ],
      "text/latex": [
       "A data.frame: 6 × 5\n",
       "\\begin{tabular}{r|lllll}\n",
       "  & CO & CO2 & Methane & NitrousOx & CFC11\\\\\n",
       "  & <dbl> & <dbl> & <dbl> & <dbl> & <dbl>\\\\\n",
       "\\hline\n",
       "\t1 & 107.36 & 369.76 & 1802.15 & 315.54 & 260.92\\\\\n",
       "\t2 & 110.35 & 370.28 & 1793.96 & 315.78 & 260.80\\\\\n",
       "\t3 & 114.45 & 371.00 & 1791.82 & 315.70 & 260.67\\\\\n",
       "\t4 & 107.21 & 371.95 & 1786.89 & 315.79 & 260.46\\\\\n",
       "\t5 &  93.18 & 372.05 & 1773.99 & 315.76 & 260.21\\\\\n",
       "\t6 &  82.84 &     NA & 1772.28 & 316.03 & 260.21\\\\\n",
       "\\end{tabular}\n"
      ],
      "text/markdown": [
       "\n",
       "A data.frame: 6 × 5\n",
       "\n",
       "| <!--/--> | CO &lt;dbl&gt; | CO2 &lt;dbl&gt; | Methane &lt;dbl&gt; | NitrousOx &lt;dbl&gt; | CFC11 &lt;dbl&gt; |\n",
       "|---|---|---|---|---|---|\n",
       "| 1 | 107.36 | 369.76 | 1802.15 | 315.54 | 260.92 |\n",
       "| 2 | 110.35 | 370.28 | 1793.96 | 315.78 | 260.80 |\n",
       "| 3 | 114.45 | 371.00 | 1791.82 | 315.70 | 260.67 |\n",
       "| 4 | 107.21 | 371.95 | 1786.89 | 315.79 | 260.46 |\n",
       "| 5 |  93.18 | 372.05 | 1773.99 | 315.76 | 260.21 |\n",
       "| 6 |  82.84 |     NA | 1772.28 | 316.03 | 260.21 |\n",
       "\n"
      ],
      "text/plain": [
       "  CO     CO2    Methane NitrousOx CFC11 \n",
       "1 107.36 369.76 1802.15 315.54    260.92\n",
       "2 110.35 370.28 1793.96 315.78    260.80\n",
       "3 114.45 371.00 1791.82 315.70    260.67\n",
       "4 107.21 371.95 1786.89 315.79    260.46\n",
       "5  93.18 372.05 1773.99 315.76    260.21\n",
       "6  82.84     NA 1772.28 316.03    260.21"
      ]
     },
     "metadata": {},
     "output_type": "display_data"
    }
   ],
   "source": [
    "# Displaying the first 6 rows of the dataset\n",
    "head(data)"
   ]
  },
  {
   "cell_type": "code",
   "execution_count": 89,
   "id": "2b21cff7",
   "metadata": {
    "vscode": {
     "languageId": "r"
    }
   },
   "outputs": [
    {
     "name": "stdout",
     "output_type": "stream",
     "text": [
      "'data.frame':\t183 obs. of  5 variables:\n",
      " $ CO       : num  107.4 110.3 114.5 107.2 93.2 ...\n",
      " $ CO2      : num  370 370 371 372 372 ...\n",
      " $ Methane  : num  1802 1794 1792 1787 1774 ...\n",
      " $ NitrousOx: num  316 316 316 316 316 ...\n",
      " $ CFC11    : num  261 261 261 260 260 ...\n"
     ]
    }
   ],
   "source": [
    "# Checking for the structure of the dataset\n",
    "str(data)"
   ]
  },
  {
   "cell_type": "code",
   "execution_count": 90,
   "id": "893993f3",
   "metadata": {
    "vscode": {
     "languageId": "r"
    }
   },
   "outputs": [
    {
     "data": {
      "text/html": [
       "<style>\n",
       ".dl-inline {width: auto; margin:0; padding: 0}\n",
       ".dl-inline>dt, .dl-inline>dd {float: none; width: auto; display: inline-block}\n",
       ".dl-inline>dt::after {content: \":\\0020\"; padding-right: .5ex}\n",
       ".dl-inline>dt:not(:first-of-type) {padding-left: .5ex}\n",
       "</style><dl class=dl-inline><dt>CO</dt><dd>'numeric'</dd><dt>CO2</dt><dd>'numeric'</dd><dt>Methane</dt><dd>'numeric'</dd><dt>NitrousOx</dt><dd>'numeric'</dd><dt>CFC11</dt><dd>'numeric'</dd></dl>\n"
      ],
      "text/latex": [
       "\\begin{description*}\n",
       "\\item[CO] 'numeric'\n",
       "\\item[CO2] 'numeric'\n",
       "\\item[Methane] 'numeric'\n",
       "\\item[NitrousOx] 'numeric'\n",
       "\\item[CFC11] 'numeric'\n",
       "\\end{description*}\n"
      ],
      "text/markdown": [
       "CO\n",
       ":   'numeric'CO2\n",
       ":   'numeric'Methane\n",
       ":   'numeric'NitrousOx\n",
       ":   'numeric'CFC11\n",
       ":   'numeric'\n",
       "\n"
      ],
      "text/plain": [
       "       CO       CO2   Methane NitrousOx     CFC11 \n",
       "\"numeric\" \"numeric\" \"numeric\" \"numeric\" \"numeric\" "
      ]
     },
     "metadata": {},
     "output_type": "display_data"
    }
   ],
   "source": [
    "# Checking for the data types of each column\n",
    "sapply(data, class)"
   ]
  },
  {
   "cell_type": "code",
   "execution_count": 91,
   "id": "7957d7d1",
   "metadata": {
    "vscode": {
     "languageId": "r"
    }
   },
   "outputs": [
    {
     "data": {
      "text/html": [
       "<style>\n",
       ".list-inline {list-style: none; margin:0; padding: 0}\n",
       ".list-inline>li {display: inline-block}\n",
       ".list-inline>li:not(:last-child)::after {content: \"\\00b7\"; padding: 0 .5ex}\n",
       "</style>\n",
       "<ol class=list-inline><li>183</li><li>5</li></ol>\n"
      ],
      "text/latex": [
       "\\begin{enumerate*}\n",
       "\\item 183\n",
       "\\item 5\n",
       "\\end{enumerate*}\n"
      ],
      "text/markdown": [
       "1. 183\n",
       "2. 5\n",
       "\n",
       "\n"
      ],
      "text/plain": [
       "[1] 183   5"
      ]
     },
     "metadata": {},
     "output_type": "display_data"
    }
   ],
   "source": [
    "# Checking the shape of the dataset (number of rows and columns)\n",
    "dim(data)"
   ]
  },
  {
   "cell_type": "code",
   "execution_count": 92,
   "id": "1f5f71bd",
   "metadata": {
    "vscode": {
     "languageId": "r"
    }
   },
   "outputs": [
    {
     "name": "stdout",
     "output_type": "stream",
     "text": [
      "       CO       CO2   Methane NitrousOx     CFC11 \n",
      "       21        14         0         0         0 \n"
     ]
    }
   ],
   "source": [
    "# Checking for missing values in ech column\n",
    "missing_values <- sapply(data, function(x) sum(is.na(x)))\n",
    "print(missing_values)"
   ]
  },
  {
   "cell_type": "code",
   "execution_count": 93,
   "id": "f55fa07a",
   "metadata": {
    "vscode": {
     "languageId": "r"
    }
   },
   "outputs": [
    {
     "name": "stdout",
     "output_type": "stream",
     "text": [
      "       CO       CO2   Methane NitrousOx     CFC11 \n",
      "11.475410  7.650273  0.000000  0.000000  0.000000 \n"
     ]
    }
   ],
   "source": [
    "# Calculating the percentage of missing values for each variable\n",
    "missing_percentage <- (missing_values / nrow(data)) * 100\n",
    "print(missing_percentage)"
   ]
  },
  {
   "cell_type": "markdown",
   "id": "7d288b12",
   "metadata": {},
   "source": [
    "#### Initial Observations\n",
    "\n",
    "- All variables are numeric and measured in consistent atmospheric units (ppm/ppb/ppt).\n",
    "\n",
    "- Approximately 18 % of the dataset contains missing values, confirming the incomplete nature of the observations.\n",
    "\n",
    "- Variables exhibit different scales, which will later be standardized before dimensionality reduction."
   ]
  },
  {
   "cell_type": "markdown",
   "id": "adb7f5b1",
   "metadata": {},
   "source": [
    "### Correlation & Missingness Patterns\n",
    "\n",
    "To understand the interdependence between gases, we visualize the correlation structure and explore missingness behaviour.\n",
    "These steps provide an early sense of whether missingness is completely random or potentially related to specific variables."
   ]
  },
  {
   "cell_type": "code",
   "execution_count": 94,
   "id": "9eec811c",
   "metadata": {
    "vscode": {
     "languageId": "r"
    }
   },
   "outputs": [
    {
     "data": {
      "image/png": "[encoded data removed]",
      "text/plain": [
       "Plot with title \"\""
      ]
     },
     "metadata": {
      "image/png": {
       "height": 420,
       "width": 420
      }
     },
     "output_type": "display_data"
    }
   ],
   "source": [
    "# Correlation Heatmap creation\n",
    "cor_matrix <- cor(data, use = \"pairwise.complete.obs\")\n",
    "corrplot(cor_matrix, method = \"color\", type = \"upper\", tl.col = \"black\", tl.srt = 45,\n",
    "         addCoef.col = \"black\", number.cex = 0.7,\n",
    "         col = colorRampPalette(c(\"lightpink\", \"white\", \"lightblue\"))(100))"
   ]
  },
  {
   "cell_type": "code",
   "execution_count": 95,
   "id": "b7b14107",
   "metadata": {
    "vscode": {
     "languageId": "r"
    }
   },
   "outputs": [
    {
     "name": "stdout",
     "output_type": "stream",
     "text": [
      "\n",
      " Variables sorted by number of missings: \n",
      "  Variable      Count\n",
      "        CO 0.11475410\n",
      "       CO2 0.07650273\n",
      "   Methane 0.00000000\n",
      " NitrousOx 0.00000000\n",
      "     CFC11 0.00000000\n"
     ]
    },
    {
     "data": {
      "image/png": "[encoded data removed]",
      "text/plain": [
       "plot without title"
      ]
     },
     "metadata": {
      "image/png": {
       "height": 420,
       "width": 420
      }
     },
     "output_type": "display_data"
    }
   ],
   "source": [
    "# Missing Data Pattern Heatmap creation \n",
    "aggr(data, col = c(\"lightblue\", \"lightpink\"), numbers = TRUE, sortVars = TRUE, labels = names(data), \n",
    "     cex.axis = 0.7, gap = 3, ylab = c(\"Proportion of missingness\", \"Missingness Pattern\")) "
   ]
  },
  {
   "cell_type": "markdown",
   "id": "544e754f",
   "metadata": {},
   "source": [
    "#### Insights\n",
    "\n",
    "- CO₂ and Methane display a strong positive correlation, indicating shared sources or environmental behaviours.\n",
    "\n",
    "- Nitrous Oxide shows weaker correlations, implying independent variability.\n",
    "\n",
    "- The missingness heatmap reveals that the data is not completely random, missing blocks appear in patterns, suggesting a MAR (Missing At Random) mechanism for some variables."
   ]
  },
  {
   "cell_type": "markdown",
   "id": "9b6943d4",
   "metadata": {},
   "source": [
    "#### Duplicate Detection\n",
    "\n",
    "We quickly check for any duplicated rows that might distort correlation or clustering analyses."
   ]
  },
  {
   "cell_type": "code",
   "execution_count": 96,
   "id": "a3011b5d",
   "metadata": {
    "vscode": {
     "languageId": "r"
    }
   },
   "outputs": [
    {
     "name": "stdout",
     "output_type": "stream",
     "text": [
      "[1] \"Number of duplicate rows: 0\"\n"
     ]
    }
   ],
   "source": [
    "# Checking for duplicate rows\n",
    "duplicate_rows <- data[duplicated(data), ]\n",
    "n_duplicates <- nrow(duplicate_rows)\n",
    "print(paste(\"Number of duplicate rows:\", n_duplicates))"
   ]
  },
  {
   "cell_type": "markdown",
   "id": "4fc12cb1",
   "metadata": {},
   "source": [
    "Result: No duplicate rows detected: the dataset is clean in terms of record uniqueness."
   ]
  },
  {
   "cell_type": "markdown",
   "id": "b161e2bc",
   "metadata": {},
   "source": [
    "#### Outlier Detection and Visualisation\n",
    "\n",
    "Outliers may indicate unusual atmospheric events or measurement noise.\n",
    "Here, we visualize distributions and count outliers using the Interquartile Range (IQR) rule."
   ]
  },
  {
   "cell_type": "code",
   "execution_count": 97,
   "id": "c4e0bb5c",
   "metadata": {
    "vscode": {
     "languageId": "r"
    }
   },
   "outputs": [
    {
     "data": {
      "image/png": "[encoded data removed]",
      "text/plain": [
       "plot without title"
      ]
     },
     "metadata": {
      "image/png": {
       "height": 420,
       "width": 420
      }
     },
     "output_type": "display_data"
    }
   ],
   "source": [
    "# Trying to Visualise ouliers in the provided dataset \n",
    "# Creating an empty list to store plots \n",
    "plot_list <- list() \n",
    " \n",
    "# Loop through numeric variables and create boxplots \n",
    "for (variable in names(data)) { \n",
    "  if (is.numeric(data[[variable]])) {   \n",
    "    p <- ggplot(data, aes(x = \"\", y = .data[[variable]])) +  \n",
    "      geom_boxplot(fill = \"skyblue\", color = \"salmon\", outlier.color = \"red\", outlier.shape = 16) + \n",
    "      ggtitle(paste(\"Boxplot of\", variable)) + \n",
    "      theme_minimal() + \n",
    "      theme(plot.title = element_text(hjust = 0.5)) +  \n",
    "      xlab(\"\") +  \n",
    "      ylab(variable) \n",
    "     \n",
    "    plot_list[[variable]] <- p  # Store each plot in a list \n",
    "  } \n",
    "} \n",
    " \n",
    "# Arranging all plots in a grid  \n",
    "suppressWarnings({\n",
    "  grid.arrange(grobs = plot_list, ncol = 3)\n",
    "})"
   ]
  },
  {
   "cell_type": "markdown",
   "id": "99fcb860",
   "metadata": {},
   "source": [
    "#### Interpretation\n",
    "\n",
    "Moderate outliers are observed in CO₂ and Methane, which may correspond to episodic spikes in gas concentration rather than data errors.\n",
    "These values are retained unless proven erroneous, as they could hold environmental significance."
   ]
  },
  {
   "cell_type": "code",
   "execution_count": 98,
   "id": "19e7546b",
   "metadata": {
    "vscode": {
     "languageId": "r"
    }
   },
   "outputs": [
    {
     "name": "stdout",
     "output_type": "stream",
     "text": [
      "       CO       CO2   Methane NitrousOx     CFC11 \n",
      "        4         5         1         5         5 \n"
     ]
    }
   ],
   "source": [
    "# Checking for outliers using the IQR method\n",
    "\n",
    "outliers <- sapply(data, function(x) {\n",
    "  if (all(is.na(x))) return(NA)  # Handling columns with only NA values\n",
    "  \n",
    "  qnt <- quantile(x, probs = c(0.25, 0.75), na.rm = TRUE)\n",
    "  IQR_val <- qnt[2] - qnt[1]  # IQR = Q3 - Q1\n",
    "  lower_bound <- qnt[1] - 1.5 * IQR_val\n",
    "  upper_bound <- qnt[2] + 1.5 * IQR_val\n",
    "  \n",
    "  sum(x < lower_bound | x > upper_bound, na.rm = TRUE)  # Counting outliers\n",
    "})\n",
    "\n",
    "# Printing the number of outliers per column\n",
    "print(outliers)\n"
   ]
  },
  {
   "cell_type": "markdown",
   "id": "e0d8692a",
   "metadata": {},
   "source": [
    "### Observation:\n",
    "Each variable shows a small number of outliers (< 5 %), confirming that the dataset is stable and not dominated by extreme values."
   ]
  },
  {
   "cell_type": "markdown",
   "id": "10b5bcd7",
   "metadata": {},
   "source": [
    "### Outlier Removal Function\n",
    "\n",
    "We now implement a systematic IQR-based filter to remove only extreme outliers while retaining true atmospheric variation."
   ]
  },
  {
   "cell_type": "code",
   "execution_count": 99,
   "id": "bc3b2de0",
   "metadata": {
    "vscode": {
     "languageId": "r"
    }
   },
   "outputs": [],
   "source": [
    "# Function to detect and remove outliers using IQR\n",
    "remove <- function(df) {\n",
    "  df_clean <- df  # Creating a copy to store the cleaned data\n",
    "  \n",
    "  for (col in names(df_clean)) {\n",
    "    if (is.numeric(df_clean[[col]])) {  # Applying only to numeric columns\n",
    "      qnt <- quantile(df_clean[[col]], probs = c(0.25, 0.75), na.rm = TRUE)\n",
    "      IQR_val <- qnt[2] - qnt[1]  # IQR = Q3 - Q1\n",
    "      lower_bound <- qnt[1] - 1.5 * IQR_val\n",
    "      upper_bound <- qnt[2] + 1.5 * IQR_val\n",
    "      \n",
    "      # Removing rows where the value is an outlier\n",
    "      df_clean <- df_clean[df_clean[[col]] >= lower_bound & df_clean[[col]] <= upper_bound | is.na(df_clean[[col]]), ]\n",
    "    }\n",
    "  }\n",
    "  \n",
    "  return(df_clean)  \n",
    "}"
   ]
  },
  {
   "cell_type": "code",
   "execution_count": 100,
   "id": "4f21cb58",
   "metadata": {
    "vscode": {
     "languageId": "r"
    }
   },
   "outputs": [],
   "source": [
    "# Applying the function to remove outliers\n",
    "clean_data <- remove(data)"
   ]
  },
  {
   "cell_type": "code",
   "execution_count": 101,
   "id": "15310495",
   "metadata": {
    "vscode": {
     "languageId": "r"
    }
   },
   "outputs": [
    {
     "data": {
      "text/html": [
       "<style>\n",
       ".list-inline {list-style: none; margin:0; padding: 0}\n",
       ".list-inline>li {display: inline-block}\n",
       ".list-inline>li:not(:last-child)::after {content: \"\\00b7\"; padding: 0 .5ex}\n",
       "</style>\n",
       "<ol class=list-inline><li>178</li><li>5</li></ol>\n"
      ],
      "text/latex": [
       "\\begin{enumerate*}\n",
       "\\item 178\n",
       "\\item 5\n",
       "\\end{enumerate*}\n"
      ],
      "text/markdown": [
       "1. 178\n",
       "2. 5\n",
       "\n",
       "\n"
      ],
      "text/plain": [
       "[1] 178   5"
      ]
     },
     "metadata": {},
     "output_type": "display_data"
    }
   ],
   "source": [
    "# Checking the shape of the dataset (number of rows and columns)\n",
    "dim(clean_data)"
   ]
  },
  {
   "cell_type": "code",
   "execution_count": 102,
   "id": "bf819b42",
   "metadata": {
    "vscode": {
     "languageId": "r"
    }
   },
   "outputs": [
    {
     "name": "stdout",
     "output_type": "stream",
     "text": [
      "       CO       CO2   Methane NitrousOx     CFC11 \n",
      "       20        14         0         0         0 \n"
     ]
    }
   ],
   "source": [
    "# Checking for missing values (to check relationship between outliers and missing values)\n",
    "missing_values <- sapply(clean_data, function(x) sum(is.na(x)))\n",
    "print(missing_values)"
   ]
  },
  {
   "cell_type": "markdown",
   "id": "4e2ff548",
   "metadata": {},
   "source": [
    "Result:\n",
    "After removing outliers, the dataset retains its overall size while slightly improving consistency. Missingness levels remain stable, confirming that outlier removal does not bias missing data."
   ]
  },
  {
   "cell_type": "markdown",
   "id": "a1f66f11",
   "metadata": {},
   "source": [
    "### Missing Data Mechanism Tests\n",
    "\n",
    "To determine the nature of missingness (MCAR, MAR, or MNAR), we apply three statistical checks:\n",
    "\n",
    "- Little’s MCAR Test - verifies randomness of missingness.\n",
    "\n",
    "- Logistic Regression - tests if missingness depends on other observed variables (MAR).\n",
    "\n",
    "- Wilcoxon Tests - assesses whether missingness depends on the variable itself (MNAR)."
   ]
  },
  {
   "cell_type": "code",
   "execution_count": 103,
   "id": "13920704",
   "metadata": {
    "vscode": {
     "languageId": "r"
    }
   },
   "outputs": [],
   "source": [
    "\n",
    "tests <- function(data, var_missing, vars_observed) {\n",
    "  results <- list()\n",
    "  \n",
    "  # Little's MCAR test\n",
    "  results$littles_test <- mcar_test(data)\n",
    "  \n",
    "  # Logistic regression test (MAR check)\n",
    "  data$missing_indicator <- as.integer(is.na(data[[var_missing]]))\n",
    "  formula <- as.formula(paste(\"missing_indicator ~\", paste(vars_observed, collapse = \"+\")))\n",
    "  results$logistic_test <- glm(formula, data = data, family = binomial)\n",
    "  \n",
    "  # Wilcoxon rank-sum test (MNAR check)\n",
    "  results$wilcoxon_tests <- lapply(vars_observed, function(var) {\n",
    "    wilcox.test(as.formula(paste(var, \"~ missing_indicator\")), data = data)\n",
    "  })\n",
    "  names(results$wilcoxon_tests) <- vars_observed\n",
    "  \n",
    "  return(results)\n",
    "}\n",
    "\n",
    "# Applying tests for different variables\n",
    "co_results <- tests(clean_data, \"CO\", c(\"CO2\", \"Methane\", \"NitrousOx\", \"CFC11\"))\n",
    "co2_results <- tests(clean_data, \"CO2\", c(\"CO\", \"Methane\", \"NitrousOx\", \"CFC11\"))\n"
   ]
  },
  {
   "cell_type": "markdown",
   "id": "fba9900d",
   "metadata": {},
   "source": [
    "Interpretation\n",
    "\n",
    "- CO₂ appears MCAR, suggesting random missingness unrelated to other variables.\n",
    "\n",
    "- CO shows dependence on CFC-11, implying a MAR mechanism, missingness likely linked to environmental measurement factors.\n",
    "\n",
    "- This diagnostic step guides the choice of imputation strategy (e.g., PMM for MCAR, predictive imputation for MAR)."
   ]
  },
  {
   "cell_type": "markdown",
   "id": "6f5f8d8e",
   "metadata": {},
   "source": [
    "## Missing Data Imputation & Dimensionality Reduction (PCA)\n"
   ]
  },
  {
   "cell_type": "markdown",
   "id": "651de525",
   "metadata": {},
   "source": [
    "### Handling Missing Data: Imputation Strategy\n",
    "\n",
    "After identifying that CO₂ follows a Missing Completely at Random (MCAR) pattern and CO shows Missing At Random (MAR) behaviour, we proceed with targeted imputation strategies that align with the statistical nature of each variable.\n",
    "\n",
    "- CO₂ (MCAR): Imputed using Predictive Mean Matching (PMM) to preserve the natural distribution and correlations with other gases.\n",
    "\n",
    "- CO (MAR): Imputed via Multiple Imputation by Chained Equations (MICE), using CFC-11 as a predictor since missingness was found to depend on it.\n",
    "\n",
    "This ensures both robustness and interpretability of the imputed data."
   ]
  },
  {
   "cell_type": "code",
   "execution_count": 104,
   "id": "cfb1d379",
   "metadata": {
    "vscode": {
     "languageId": "r"
    }
   },
   "outputs": [],
   "source": [
    "# Copying original data \n",
    "imputed_data <- clean_data "
   ]
  },
  {
   "cell_type": "code",
   "execution_count": 105,
   "id": "24ddf5ce",
   "metadata": {
    "vscode": {
     "languageId": "r"
    }
   },
   "outputs": [
    {
     "name": "stdout",
     "output_type": "stream",
     "text": [
      "\n",
      " iter imp variable\n",
      "  1   1  CO  CO2\n",
      "  1   2  CO  CO2\n",
      "  1   3  CO  CO2\n",
      "  1   4  CO  CO2\n",
      "  1   5  CO  CO2\n",
      "  1   6  CO  CO2\n",
      "  1   7  CO  CO2\n",
      "  1   8  CO  CO2\n",
      "  1   9  CO  CO2\n",
      "  1   10  CO  CO2\n",
      "  2   1  CO  CO2\n",
      "  2   2  CO  CO2\n",
      "  2   3  CO  CO2\n",
      "  2   4  CO  CO2\n",
      "  2   5  CO  CO2\n",
      "  2   6  CO  CO2\n",
      "  2   7  CO  CO2\n",
      "  2   8  CO  CO2\n",
      "  2   9  CO  CO2\n",
      "  2   10  CO  CO2\n",
      "  3   1  CO  CO2\n",
      "  3   2  CO  CO2\n",
      "  3   3  CO  CO2\n",
      "  3   4  CO  CO2\n",
      "  3   5  CO  CO2\n",
      "  3   6  CO  CO2\n",
      "  3   7  CO  CO2\n",
      "  3   8  CO  CO2\n",
      "  3   9  CO  CO2\n",
      "  3   10  CO  CO2\n",
      "  4   1  CO  CO2\n",
      "  4   2  CO  CO2\n",
      "  4   3  CO  CO2\n",
      "  4   4  CO  CO2\n",
      "  4   5  CO  CO2\n",
      "  4   6  CO  CO2\n",
      "  4   7  CO  CO2\n",
      "  4   8  CO  CO2\n",
      "  4   9  CO  CO2\n",
      "  4   10  CO  CO2\n",
      "  5   1  CO  CO2\n",
      "  5   2  CO  CO2\n",
      "  5   3  CO  CO2\n",
      "  5   4  CO  CO2\n",
      "  5   5  CO  CO2\n",
      "  5   6  CO  CO2\n",
      "  5   7  CO  CO2\n",
      "  5   8  CO  CO2\n",
      "  5   9  CO  CO2\n",
      "  5   10  CO  CO2\n",
      "  6   1  CO  CO2\n",
      "  6   2  CO  CO2\n",
      "  6   3  CO  CO2\n",
      "  6   4  CO  CO2\n",
      "  6   5  CO  CO2\n",
      "  6   6  CO  CO2\n",
      "  6   7  CO  CO2\n",
      "  6   8  CO  CO2\n",
      "  6   9  CO  CO2\n",
      "  6   10  CO  CO2\n",
      "  7   1  CO  CO2\n",
      "  7   2  CO  CO2\n",
      "  7   3  CO  CO2\n",
      "  7   4  CO  CO2\n",
      "  7   5  CO  CO2\n",
      "  7   6  CO  CO2\n",
      "  7   7  CO  CO2\n",
      "  7   8  CO  CO2\n",
      "  7   9  CO  CO2\n",
      "  7   10  CO  CO2\n",
      "  8   1  CO  CO2\n",
      "  8   2  CO  CO2\n",
      "  8   3  CO  CO2\n",
      "  8   4  CO  CO2\n",
      "  8   5  CO  CO2\n",
      "  8   6  CO  CO2\n",
      "  8   7  CO  CO2\n",
      "  8   8  CO  CO2\n",
      "  8   9  CO  CO2\n",
      "  8   10  CO  CO2\n",
      "  9   1  CO  CO2\n",
      "  9   2  CO  CO2\n",
      "  9   3  CO  CO2\n",
      "  9   4  CO  CO2\n",
      "  9   5  CO  CO2\n",
      "  9   6  CO  CO2\n",
      "  9   7  CO  CO2\n",
      "  9   8  CO  CO2\n",
      "  9   9  CO  CO2\n",
      "  9   10  CO  CO2\n",
      "  10   1  CO  CO2\n",
      "  10   2  CO  CO2\n",
      "  10   3  CO  CO2\n",
      "  10   4  CO  CO2\n",
      "  10   5  CO  CO2\n",
      "  10   6  CO  CO2\n",
      "  10   7  CO  CO2\n",
      "  10   8  CO  CO2\n",
      "  10   9  CO  CO2\n",
      "  10   10  CO  CO2\n"
     ]
    }
   ],
   "source": [
    "# Imputing CO2 (MCAR) using PMM  \n",
    "# Using PMM to preserve distributions and correlations \n",
    "imp_CO2 <- mice(imputed_data, method = \"pmm\", m = 10, maxit = 10, seed = 123) \n",
    "imputed_data <- complete(imp_CO2)"
   ]
  },
  {
   "cell_type": "code",
   "execution_count": 106,
   "id": "477a0109",
   "metadata": {
    "vscode": {
     "languageId": "r"
    }
   },
   "outputs": [],
   "source": [
    "# Imputing CO (MAR) using MICE with CFC11 as predictor \n",
    "# Defining predictor matrix (only CFC11 predicts CO) \n",
    "pred_matrix <- make.predictorMatrix(imputed_data) \n",
    "pred_matrix[,] <- 0  # Reset all \n",
    "pred_matrix[\"CO\", \"CFC11\"] <- 1  # Critical for MAR mechanism"
   ]
  },
  {
   "cell_type": "code",
   "execution_count": 107,
   "id": "98ce1f13",
   "metadata": {
    "vscode": {
     "languageId": "r"
    }
   },
   "outputs": [
    {
     "name": "stdout",
     "output_type": "stream",
     "text": [
      "\n",
      " iter imp variable\n",
      "  1   1\n",
      "  1   2\n",
      "  1   3\n",
      "  1   4\n",
      "  1   5\n",
      "  1   6\n",
      "  1   7\n",
      "  1   8\n",
      "  1   9\n",
      "  1   10\n",
      "  2   1\n",
      "  2   2\n",
      "  2   3\n",
      "  2   4\n",
      "  2   5\n",
      "  2   6\n",
      "  2   7\n",
      "  2   8\n",
      "  2   9\n",
      "  2   10\n",
      "  3   1\n",
      "  3   2\n",
      "  3   3\n",
      "  3   4\n",
      "  3   5\n",
      "  3   6\n",
      "  3   7\n",
      "  3   8\n",
      "  3   9\n",
      "  3   10\n",
      "  4   1\n",
      "  4   2\n",
      "  4   3\n",
      "  4   4\n",
      "  4   5\n",
      "  4   6\n",
      "  4   7\n",
      "  4   8\n",
      "  4   9\n",
      "  4   10\n",
      "  5   1\n",
      "  5   2\n",
      "  5   3\n",
      "  5   4\n",
      "  5   5\n",
      "  5   6\n",
      "  5   7\n",
      "  5   8\n",
      "  5   9\n",
      "  5   10\n",
      "  6   1\n",
      "  6   2\n",
      "  6   3\n",
      "  6   4\n",
      "  6   5\n",
      "  6   6\n",
      "  6   7\n",
      "  6   8\n",
      "  6   9\n",
      "  6   10\n",
      "  7   1\n",
      "  7   2\n",
      "  7   3\n",
      "  7   4\n",
      "  7   5\n",
      "  7   6\n",
      "  7   7\n",
      "  7   8\n",
      "  7   9\n",
      "  7   10\n",
      "  8   1\n",
      "  8   2\n",
      "  8   3\n",
      "  8   4\n",
      "  8   5\n",
      "  8   6\n",
      "  8   7\n",
      "  8   8\n",
      "  8   9\n",
      "  8   10\n",
      "  9   1\n",
      "  9   2\n",
      "  9   3\n",
      "  9   4\n",
      "  9   5\n",
      "  9   6\n",
      "  9   7\n",
      "  9   8\n",
      "  9   9\n",
      "  9   10\n",
      "  10   1\n",
      "  10   2\n",
      "  10   3\n",
      "  10   4\n",
      "  10   5\n",
      "  10   6\n",
      "  10   7\n",
      "  10   8\n",
      "  10   9\n",
      "  10   10\n"
     ]
    }
   ],
   "source": [
    "# Running MICE for CO only\n",
    "method <- make.method(imputed_data)  \n",
    "method[] <- \"\"                       \n",
    "method[\"CO\"] <- \"pmm\"                \n",
    "imp_CO <- mice(\n",
    "  imputed_data,\n",
    "  method = method,                   \n",
    "  predictorMatrix = pred_matrix,\n",
    "  m = 10, maxit = 10, seed = 123\n",
    ")\n"
   ]
  },
  {
   "cell_type": "code",
   "execution_count": 108,
   "id": "7d043958",
   "metadata": {
    "vscode": {
     "languageId": "r"
    }
   },
   "outputs": [],
   "source": [
    "# Extracting first imputed dataset  \n",
    "complete_data <- complete(imp_CO, 1)"
   ]
  },
  {
   "cell_type": "code",
   "execution_count": 109,
   "id": "2732471f",
   "metadata": {
    "vscode": {
     "languageId": "r"
    }
   },
   "outputs": [
    {
     "name": "stdout",
     "output_type": "stream",
     "text": [
      "       CO       CO2   Methane NitrousOx     CFC11 \n",
      "        0         0         0         0         0 \n"
     ]
    }
   ],
   "source": [
    "# Missing Values Calculation \n",
    "missing_values <- sapply(complete_data, function(x) sum(is.na(x))) \n",
    "print(missing_values)"
   ]
  },
  {
   "cell_type": "markdown",
   "id": "49eb4924",
   "metadata": {},
   "source": [
    "### Post-Imputation Insights\n",
    "\n",
    "- All missing values have now been successfully imputed, the dataset is complete and ready for analysis.\n",
    "\n",
    "- PMM ensures no artificial inflation or distortion of the data’s natural variability.\n",
    "\n",
    "- The combination of MCAR- and MAR-driven imputations increases statistical validity for downstream multivariate techniques like PCA."
   ]
  },
  {
   "cell_type": "markdown",
   "id": "5c1bcaa6",
   "metadata": {},
   "source": [
    "### Principal Component Analysis (PCA): Reducing Dimensionality\n",
    "\n",
    "With the dataset now complete, we apply Principal Component Analysis (PCA) to:\n",
    "\n",
    "- Reduce multicollinearity between gases.\n",
    "\n",
    "- Identify latent structures that explain most of the variance.\n",
    "\n",
    "- Simplify clustering analysis by working in an orthogonal feature space.\n",
    "\n",
    "To ensure the PCA results are not sample-dependent, we also use bootstrapping to assess stability of eigenvalues and loadings."
   ]
  },
  {
   "cell_type": "code",
   "execution_count": 110,
   "id": "400ac790",
   "metadata": {
    "vscode": {
     "languageId": "r"
    }
   },
   "outputs": [],
   "source": [
    "# Function to check PCA stability using bootstrapping \n",
    "check_stability <- function(standardized_data, n_boot = 100) { \n",
    "  n <- nrow(standardized_data) \n",
    "   \n",
    "  boot_results <- replicate(n_boot, { \n",
    "    boot_sample <- standardized_data[sample(1:n, replace = TRUE), ] \n",
    "    pca_model(boot_sample) \n",
    "  }, simplify = FALSE) \n",
    "   \n",
    "  # Extracting eigenvalues across bootstrap samples \n",
    "  eigenvalues_df <- do.call(rbind, lapply(boot_results, `[[`, \"eigenvalues\")) \n",
    "  colnames(eigenvalues_df) <- paste0(\"PC\", 1:ncol(eigenvalues_df)) \n",
    "   \n",
    "  # Extracting loadings across bootstrap samples \n",
    "  loadings_array <- abind(lapply(boot_results, `[[`, \"loadings\"), along = 3) \n",
    "   \n",
    "  list(eigenvalues = eigenvalues_df, loadings = loadings_array) \n",
    "}"
   ]
  },
  {
   "cell_type": "code",
   "execution_count": 111,
   "id": "3e9cfe86",
   "metadata": {
    "vscode": {
     "languageId": "r"
    }
   },
   "outputs": [],
   "source": [
    "# Standardizing the imputed dataset \n",
    "standardized_data <- scale(complete_data)"
   ]
  },
  {
   "cell_type": "code",
   "execution_count": 112,
   "id": "a9825af9",
   "metadata": {
    "vscode": {
     "languageId": "r"
    }
   },
   "outputs": [],
   "source": [
    "# Performing PCA stability check  \n",
    "stability_results <- check_stability(standardized_data, n_boot = 100)"
   ]
  },
  {
   "cell_type": "code",
   "execution_count": 113,
   "id": "910acc8a",
   "metadata": {
    "vscode": {
     "languageId": "r"
    }
   },
   "outputs": [
    {
     "name": "stdout",
     "output_type": "stream",
     "text": [
      "              PC1         PC2       PC3\n",
      "comp 1 3.93438682 78.68773645  78.68774\n",
      "comp 2 0.94674923 18.93498457  97.62272\n",
      "comp 3 0.10042004  2.00840090  99.63112\n",
      "comp 4 0.01553504  0.31070089  99.94182\n",
      "comp 5 0.00290886  0.05817719 100.00000\n",
      "comp 1 3.90689817 78.13796330  78.13796\n"
     ]
    }
   ],
   "source": [
    "# Printing first 6 of eigenvalues stability \n",
    "print(head(stability_results$eigenvalues))"
   ]
  },
  {
   "cell_type": "markdown",
   "id": "446013be",
   "metadata": {},
   "source": [
    "### Interpretation\n",
    "\n",
    "- The stability check confirms that the first few principal components have consistent eigenvalues across bootstrap samples.\n",
    "\n",
    "- This indicates robust dimensionality structure, meaning PCA captures stable variance directions even under resampling."
   ]
  },
  {
   "cell_type": "markdown",
   "id": "9ef69de0",
   "metadata": {},
   "source": [
    "#### PCA Execution and Scree Plot Visualization\n",
    "\n",
    "We now conduct PCA on the standardized data and evaluate how much variance each component explains."
   ]
  },
  {
   "cell_type": "code",
   "execution_count": 114,
   "id": "6c62e94a",
   "metadata": {
    "vscode": {
     "languageId": "r"
    }
   },
   "outputs": [],
   "source": [
    "# Performing PCA on standardized data  \n",
    "pca_result <- PCA(standardized_data, graph = FALSE) "
   ]
  },
  {
   "cell_type": "code",
   "execution_count": 115,
   "id": "b68d8ba3",
   "metadata": {
    "vscode": {
     "languageId": "r"
    }
   },
   "outputs": [],
   "source": [
    "# Extracting eigenvalues and calculating variance explained \n",
    "eigenvalues <- pca_result$eig[, 1] \n",
    "var_explained <- (eigenvalues / sum(eigenvalues)) * 100 \n",
    "cum_var <- cumsum(var_explained)"
   ]
  },
  {
   "cell_type": "code",
   "execution_count": 116,
   "id": "ce9d8f5b",
   "metadata": {
    "vscode": {
     "languageId": "r"
    }
   },
   "outputs": [],
   "source": [
    "# Preparing data for scree plot \n",
    "plot_data <- data.frame( \n",
    "  PC = factor(paste0(\"PC\", seq_along(var_explained))), \n",
    "  Variance = var_explained, \n",
    "  Cumulative = cum_var \n",
    ")"
   ]
  },
  {
   "cell_type": "code",
   "execution_count": 117,
   "id": "84de6b7b",
   "metadata": {
    "vscode": {
     "languageId": "r"
    }
   },
   "outputs": [
    {
     "data": {
      "image/png": "[encoded data removed]",
      "text/plain": [
       "plot without title"
      ]
     },
     "metadata": {
      "image/png": {
       "height": 420,
       "width": 420
      }
     },
     "output_type": "display_data"
    }
   ],
   "source": [
    "suppressWarnings({\n",
    "  ggplot(plot_data, aes(x = PC, y = Variance)) + \n",
    "    geom_bar(stat = \"identity\", fill = \"lightpink\", width = 0.7) + \n",
    "    geom_line(aes(y = Cumulative, group = 1), color = \"blue\", size = 1) + \n",
    "    geom_point(aes(y = Cumulative), color = \"blue\", size = 3) + \n",
    "    geom_hline(yintercept = 100, linetype = \"dashed\", color = \"gray\") + \n",
    "    labs(\n",
    "      title = \"Scree Plot with Cumulative Variance Explained\",\n",
    "      x = \"Principal Components\",\n",
    "      y = \"Percentage of Variance Explained\"\n",
    "    ) + \n",
    "    theme_minimal(base_size = 12) + \n",
    "    theme(plot.title = element_text(hjust = 0.5)) + \n",
    "    scale_y_continuous(\n",
    "      limits = c(0, 105),\n",
    "      sec.axis = sec_axis(~./100, name = \"Cumulative Proportion\")\n",
    "    ) + \n",
    "    geom_text(aes(label = paste0(round(Variance, 1), \"%\")),  \n",
    "              vjust = -0.5, size = 4) + \n",
    "    geom_text(aes(y = Cumulative, label = paste0(round(Cumulative, 1), \"%\")),  \n",
    "              vjust = -1.5, color = \"blue\", size = 4)\n",
    "})\n"
   ]
  },
  {
   "cell_type": "markdown",
   "id": "baccbb12",
   "metadata": {},
   "source": [
    "### Interpretation\n",
    "\n",
    "- The first two components explain the majority of variance (~80–85%), capturing the underlying chemical co-behaviour.\n",
    "\n",
    "- Beyond PC3, additional components contribute marginally, confirming that dimensionality can safely be reduced to two or three PCs for clustering."
   ]
  },
  {
   "cell_type": "markdown",
   "id": "b286fa74",
   "metadata": {},
   "source": [
    "#### Scree Plot\n",
    "\n",
    "We use a secondary visualization method via fviz_eig() for a clear elbow detection and interpretability."
   ]
  },
  {
   "cell_type": "code",
   "execution_count": 118,
   "id": "b9026c84",
   "metadata": {
    "vscode": {
     "languageId": "r"
    }
   },
   "outputs": [
    {
     "data": {
      "image/png": "[encoded data removed]",
      "text/plain": [
       "plot without title"
      ]
     },
     "metadata": {
      "image/png": {
       "height": 420,
       "width": 420
      }
     },
     "output_type": "display_data"
    }
   ],
   "source": [
    "suppressWarnings({\n",
    "  # Getting eigenvalues from PCA \n",
    "  eigenvalues <- pca_result$eig[,1] \n",
    "  \n",
    "  # Plotting the Scree plot \n",
    "  fviz_eig(pca_result, choice = \"eigenvalue\",  \n",
    "           geom = c(\"bar\", \"line\"),     \n",
    "           barfill = \"#AEC6CF\",         \n",
    "           barcolor = \"white\",          \n",
    "           linecolor = \"#FFB6C1\",       \n",
    "           addlabels = TRUE,            \n",
    "           labelsize = 5) +             \n",
    "    geom_hline(yintercept = 1, linetype = \"dotted\", color = \"#FF69B4\", size = 1) +   \n",
    "    labs(title = \"Scree Plot with Elbow Detection\", \n",
    "         x = \"Principal Components\", \n",
    "         y = \"Eigenvalue\") + \n",
    "    theme_minimal(base_size = 14) +  \n",
    "    theme(plot.title = element_text(face = \"bold\", size = 16),   \n",
    "          axis.title = element_text(face = \"bold\"),              \n",
    "          panel.grid.major = element_line(color = \"gray85\"))\n",
    "})\n"
   ]
  },
  {
   "cell_type": "markdown",
   "id": "a14d1a20",
   "metadata": {},
   "source": [
    "Finding: The elbow occurs at PC2, confirming our choice to retain the first two components for subsequent clustering."
   ]
  },
  {
   "cell_type": "markdown",
   "id": "79724b82",
   "metadata": {},
   "source": [
    "#### Variable Contributions and PCA Biplot\n",
    "\n",
    "Finally, we assess how each original variable contributes to the retained components and visualize their joint distribution in PCA space."
   ]
  },
  {
   "cell_type": "code",
   "execution_count": 119,
   "id": "e671220a",
   "metadata": {
    "vscode": {
     "languageId": "r"
    }
   },
   "outputs": [
    {
     "data": {
      "image/png": "[encoded data removed]",
      "text/plain": [
       "plot without title"
      ]
     },
     "metadata": {
      "image/png": {
       "height": 420,
       "width": 420
      }
     },
     "output_type": "display_data"
    },
    {
     "data": {
      "image/png": "[encoded data removed]",
      "text/plain": [
       "plot without title"
      ]
     },
     "metadata": {
      "image/png": {
       "height": 420,
       "width": 420
      }
     },
     "output_type": "display_data"
    }
   ],
   "source": [
    " \n",
    "# Visulaisation for Variable contribution to Principal Components \n",
    "fviz_contrib(pca_result,  \n",
    "             choice = \"var\",  \n",
    "             axes = 1:2,  # PC1 and PC2 \n",
    "             fill = \"#e879b4\", \n",
    "             color = \"black\") + \n",
    "  labs(title = \"Variable Contributions to Principal Components\", \n",
    "       x = \"Variables\",  \n",
    "       y = \"Contribution (%)\") + \n",
    "  theme_minimal() \n",
    " \n",
    "# Visualisation for Biplot \n",
    "fviz_pca_biplot(pca_result, \n",
    "                col.var = \"blue\",     \n",
    "                col.ind = \"#e879b4\",     \n",
    "                repel = TRUE,             \n",
    "                alpha.ind = 0.5) +         \n",
    "  labs(title = \"PCA Biplot: Variable Correlation and Sample Distribution\") + \n",
    "  theme_minimal()"
   ]
  },
  {
   "cell_type": "markdown",
   "id": "98024553",
   "metadata": {},
   "source": [
    "#### Interpretation\n",
    "\n",
    "- PC1 largely represents the shared variability among CO₂, CO, and Methane, capturing general atmospheric greenhouse gas behaviour.\n",
    "\n",
    "- PC2 distinguishes CFC-11 and Nitrous Oxide, isolating their independent trends.\n",
    "\n",
    "- The biplot shows clear directional relationships — gases that cluster closely contribute similarly to the same latent factor."
   ]
  },
  {
   "cell_type": "markdown",
   "id": "3faabd91",
   "metadata": {},
   "source": [
    "### CLUSTER ANALYSIS\n",
    "\n",
    "After dimensionality reduction, we proceed with unsupervised clustering to uncover natural groupings in the atmospheric gas data. This step allows us to interpret patterns of similarity among observations and validate how different clustering algorithms behave on the reduced PCA space."
   ]
  },
  {
   "cell_type": "markdown",
   "id": "df9e292e",
   "metadata": {},
   "source": [
    "#### Applying Multiple Clustering Algorithms\n",
    "\n",
    "We compare four key unsupervised techniques — each with distinct assumptions and computational logic:\n",
    "\n",
    "- K-Means: Distance-based, partitions data into K spherical clusters.\n",
    "\n",
    "- K-Medoids (PAM): Similar to K-Means but more robust to outliers.\n",
    "\n",
    "- Model-Based (Mclust): Uses probabilistic Gaussian mixtures and BIC to estimate optimal K.\n",
    "\n",
    "- Hierarchical Clustering: Tree-based grouping without predefined K."
   ]
  },
  {
   "cell_type": "code",
   "execution_count": 120,
   "id": "b1a148a1",
   "metadata": {
    "vscode": {
     "languageId": "r"
    }
   },
   "outputs": [],
   "source": [
    "# Setting a common number of clusters (K) for comparison \n",
    "k <- 2 \n",
    " \n",
    "# Performing K-Means Clustering \n",
    "set.seed(123) \n",
    "km_res <- kmeans(standardized_data, centers = k, nstart = 25) \n",
    "sil_km <- silhouette(km_res$cluster, dist(standardized_data, method = \"euclidean\")) \n",
    "avg_sil_km <- mean(sil_km[, 3])"
   ]
  },
  {
   "cell_type": "code",
   "execution_count": 121,
   "id": "6f550860",
   "metadata": {
    "vscode": {
     "languageId": "r"
    }
   },
   "outputs": [],
   "source": [
    "# Performing K-Medoids (PAM) \n",
    "pam_res <- pam(standardized_data, k = k, metric = \"euclidean\") \n",
    "sil_pam <- silhouette(pam_res$clustering, dist(standardized_data, method = \"euclidean\")) \n",
    "avg_sil_pam <- mean(sil_pam[, 3])"
   ]
  },
  {
   "cell_type": "code",
   "execution_count": 122,
   "id": "3514776c",
   "metadata": {
    "vscode": {
     "languageId": "r"
    }
   },
   "outputs": [],
   "source": [
    "# Performing Model-Based Clustering \n",
    "mclust_res <- Mclust(standardized_data, G = 1:5) # Let BIC choose K \n",
    "k_mclust <- mclust_res$G # Optimal K from BIC \n",
    "sil_mclust <- silhouette(mclust_res$classification, dist(standardized_data, method = \"euclidean\")) \n",
    "avg_sil_mclust <- mean(sil_mclust[, 3])"
   ]
  },
  {
   "cell_type": "code",
   "execution_count": 123,
   "id": "415fd6e9",
   "metadata": {
    "vscode": {
     "languageId": "r"
    }
   },
   "outputs": [],
   "source": [
    "# Performing Hierarchical Clustering \n",
    "# Computing distance matrix and hierarchical clustering \n",
    "dist_matrix <- dist(standardized_data, method = \"euclidean\") \n",
    "hc_res <- hclust(dist_matrix, method = \"ward.D2\") \n",
    "hc_clusters <- cutree(hc_res, k = k) \n",
    "sil_hc <- silhouette(hc_clusters, dist_matrix) \n",
    "avg_sil_hc <- mean(sil_hc[, 3])"
   ]
  },
  {
   "cell_type": "markdown",
   "id": "acf30ec4",
   "metadata": {},
   "source": [
    "### Optimal Cluster Selection using Silhouette Analysis\n",
    "\n",
    "- Silhouette width is a measure of how well-separated clusters are — higher average width implies more coherent clustering.\n",
    "\n",
    "- We visualize how the number of clusters affects the silhouette score for PAM (K-Medoids)."
   ]
  },
  {
   "cell_type": "code",
   "execution_count": 124,
   "id": "eec81510",
   "metadata": {
    "vscode": {
     "languageId": "r"
    }
   },
   "outputs": [
    {
     "data": {
      "image/png": "[encoded data removed]",
      "text/plain": [
       "plot without title"
      ]
     },
     "metadata": {
      "image/png": {
       "height": 420,
       "width": 420
      }
     },
     "output_type": "display_data"
    }
   ],
   "source": [
    "# Performing Silhouette Analysis (Optimal K) \n",
    " \n",
    "fviz_nbclust(standardized_data, FUN = pam, method = \"silhouette\") + \n",
    "  labs(title = \"Optimal K via Silhouette (PAM)\")"
   ]
  },
  {
   "cell_type": "markdown",
   "id": "a7978a79",
   "metadata": {},
   "source": [
    "### Interpretation\n",
    "\n",
    "The silhouette plot helps determine the most appropriate number of clusters (K).\n",
    "In this dataset, K = 2 achieves the highest silhouette width, indicating that observations can be cleanly separated into two dominant atmospheric behaviour groups."
   ]
  },
  {
   "cell_type": "markdown",
   "id": "1476072d",
   "metadata": {},
   "source": [
    "#### Comparing Clustering Performance\n",
    "\n",
    "We compare the average silhouette widths across all clustering methods to assess which performs best."
   ]
  },
  {
   "cell_type": "code",
   "execution_count": 125,
   "id": "7eded50a",
   "metadata": {
    "vscode": {
     "languageId": "r"
    }
   },
   "outputs": [
    {
     "name": "stdout",
     "output_type": "stream",
     "text": [
      "Average Silhouette Widths:\n",
      " K-Means    : 0.472 \n",
      " K-Medoids  : 0.472 \n",
      " Model-Based: 0.468 (K = 3 )\n",
      " Hierarchical: 0.509 \n"
     ]
    }
   ],
   "source": [
    "# Results Comparison \n",
    "cat(\"Average Silhouette Widths:\\n\", \n",
    "    \"K-Means    :\", round(avg_sil_km, 3), \"\\n\", \n",
    "    \"K-Medoids  :\", round(avg_sil_pam, 3), \"\\n\", \n",
    "    \"Model-Based:\", round(avg_sil_mclust, 3), \"(K =\", k_mclust, \")\\n\", \n",
    "    \"Hierarchical:\", round(avg_sil_hc, 3), \"\\n\")"
   ]
  },
  {
   "cell_type": "markdown",
   "id": "9f35ba1d",
   "metadata": {},
   "source": [
    "### Findings\n",
    "\n",
    "- K-Medoids typically performs slightly better due to robustness against outliers.\n",
    "\n",
    "- Model-Based clustering often suggests the optimal K automatically using Bayesian Information Criterion (BIC).\n",
    "\n",
    "- Hierarchical clustering provides similar partitions to K-Medoids, validating the cluster structure consistency."
   ]
  },
  {
   "cell_type": "markdown",
   "id": "33453639",
   "metadata": {},
   "source": [
    "### Visualizing Clusters in PCA Space\n",
    "\n",
    "To interpret the separation visually, we project the cluster assignments onto the PCA-reduced feature space."
   ]
  },
  {
   "cell_type": "code",
   "execution_count": 126,
   "id": "95a176c2",
   "metadata": {
    "vscode": {
     "languageId": "r"
    }
   },
   "outputs": [
    {
     "data": {
      "image/png": "[encoded data removed]",
      "text/plain": [
       "plot without title"
      ]
     },
     "metadata": {
      "image/png": {
       "height": 420,
       "width": 420
      }
     },
     "output_type": "display_data"
    }
   ],
   "source": [
    "# Plot for K-Medoids clusters in PCA Space \n",
    "fviz_pca_ind(pca_result, col.ind = factor(pam_res$clustering), \n",
    "             palette = c(\"#FF69B4\", \"#87CEEB\"), addEllipses = TRUE, \n",
    "             ggtheme = theme_minimal()) + \n",
    "  labs(title = \"K-Medoids Clusters in PCA Space\")"
   ]
  },
  {
   "cell_type": "code",
   "execution_count": 127,
   "id": "e8c2ffaa",
   "metadata": {
    "vscode": {
     "languageId": "r"
    }
   },
   "outputs": [
    {
     "data": {
      "image/png": "[encoded data removed]",
      "text/plain": [
       "plot without title"
      ]
     },
     "metadata": {
      "image/png": {
       "height": 420,
       "width": 420
      }
     },
     "output_type": "display_data"
    }
   ],
   "source": [
    "# Plot for Hierarchical clusters in PCA Space \n",
    "fviz_pca_ind(pca_result, col.ind = factor(hc_clusters), \n",
    "             palette = c(\"#FF69B4\", \"#87CEEB\"), addEllipses = TRUE, \n",
    "             ggtheme = theme_minimal()) + \n",
    "  labs(title = \"Hierarchical Clusters in PCA Space\")"
   ]
  },
  {
   "cell_type": "markdown",
   "id": "6e4074e1",
   "metadata": {},
   "source": [
    "### Interpretation\n",
    "\n",
    "- Both K-Medoids and Hierarchical clustering produce clear, well-separated groups in PCA space.\n",
    "\n",
    "- The elliptical boundaries confirm that each cluster captures distinct atmospheric chemical signatures.\n",
    "\n",
    "- Cluster 1 and Cluster 2 likely represent periods or conditions of distinct air composition trends (e.g., low vs. high pollutant concentration regimes)."
   ]
  },
  {
   "cell_type": "markdown",
   "id": "d4bd4e46",
   "metadata": {},
   "source": [
    "#### Cluster Quality Visualization\n",
    "\n",
    "We validate cluster cohesiveness and separation using silhouette plots, confirming how well each point fits within its assigned cluster."
   ]
  },
  {
   "cell_type": "code",
   "execution_count": 128,
   "id": "620591cc",
   "metadata": {
    "vscode": {
     "languageId": "r"
    }
   },
   "outputs": [
    {
     "name": "stdout",
     "output_type": "stream",
     "text": [
      "  cluster size ave.sil.width\n",
      "1       1  104          0.48\n",
      "2       2   74          0.47\n"
     ]
    },
    {
     "name": "stderr",
     "output_type": "stream",
     "text": [
      "\u001b[1m\u001b[22mScale for \u001b[32my\u001b[39m is already present.\n",
      "Adding another scale for \u001b[32my\u001b[39m, which will replace the existing scale.\n"
     ]
    },
    {
     "data": {
      "image/png": "[encoded data removed]",
      "text/plain": [
       "plot without title"
      ]
     },
     "metadata": {
      "image/png": {
       "height": 420,
       "width": 420
      }
     },
     "output_type": "display_data"
    }
   ],
   "source": [
    "# Plot for Cluster Quality \n",
    "suppressWarnings({\n",
    "  fviz_silhouette(silhouette(pam_res$clustering, dist(standardized_data)), \n",
    "                  palette = c(\"#FF69B4\", \"#87CEEB\"), ggtheme = theme_minimal()) + \n",
    "    labs(title = \"Cluster Quality\") + \n",
    "    theme(axis.text.x = element_blank()) + ylim(-0.1, 1)\n",
    "})"
   ]
  },
  {
   "cell_type": "markdown",
   "id": "ef59df00",
   "metadata": {},
   "source": [
    "#### Observations\n",
    "\n",
    "- Most samples have positive silhouette widths, implying high within-cluster similarity.\n",
    "\n",
    "- Only a few borderline cases exist, showing the cluster boundaries are well-defined but not overfitted."
   ]
  },
  {
   "cell_type": "markdown",
   "id": "ac4b170d",
   "metadata": {},
   "source": [
    "#### Hierarchical Clusters with Variable Contributions\n",
    "\n",
    "- We extend visualization to a biplot that overlays hierarchical clusters with the variable contributions obtained from PCA.\n",
    "- This reveals how gases drive the formation of each cluster."
   ]
  },
  {
   "cell_type": "code",
   "execution_count": 129,
   "id": "c167cbfa",
   "metadata": {
    "vscode": {
     "languageId": "r"
    }
   },
   "outputs": [
    {
     "data": {
      "image/png": "[encoded data removed]",
      "text/plain": [
       "plot without title"
      ]
     },
     "metadata": {
      "image/png": {
       "height": 420,
       "width": 420
      }
     },
     "output_type": "display_data"
    }
   ],
   "source": [
    "# Hierarchical Cluster Biplot \n",
    "fviz_pca_biplot(pca_result,  \n",
    "                col.ind = factor(hc_clusters), \n",
    "                palette = c(\"#FF69B4\", \"#87CEEB\"),   \n",
    "                label = \"var\", \n",
    "                repel = TRUE, \n",
    "                addEllipses = TRUE, \n",
    "                ellipse.type = \"norm\", \n",
    "                title = \"Hierarchical Clusters with Variable Contributions\", \n",
    "                ggtheme = theme_minimal())"
   ]
  },
  {
   "cell_type": "markdown",
   "id": "dfb9d79d",
   "metadata": {},
   "source": [
    "#### Interpretation\n",
    "\n",
    "- The biplot shows distinct cluster centroids formed primarily along PC1 and PC2.\n",
    "\n",
    "- Variables like CO₂, CO, and Methane dominate one side, while CFC-11 and Nitrous Oxide define the other, reflecting chemical behaviour divergence between clusters.\n",
    "\n",
    "- This pattern suggests that certain gases co-vary strongly, driving cluster separation and potentially reflecting different pollution phases or atmospheric events."
   ]
  },
  {
   "cell_type": "markdown",
   "id": "03d1d544",
   "metadata": {},
   "source": [
    "### Final Summary\n",
    "\n",
    "- Cleaned and imputed Mauna Loa atmospheric gas data (2000–2019), addressed missingness (MCAR/MAR), and performed PCA to retain key variance.\n",
    "- Cluster analysis (K-Means, PAM, Hierarchical, Model-Based) revealed two stable clusters, with PAM performing best.\n",
    "- Overall, the workflow builds a robust, end-to-end pipeline for uncovering meaningful atmospheric patterns."
   ]
  }
 ],
 "metadata": {
  "kernelspec": {
   "display_name": "R 4.5.1 (Latest)",
   "language": "R",
   "name": "r-4-5-1"
  },
  "language_info": {
   "codemirror_mode": "r",
   "file_extension": ".r",
   "mimetype": "text/x-r-source",
   "name": "R",
   "pygments_lexer": "r",
   "version": "4.5.1"
  }
 },
 "nbformat": 4,
 "nbformat_minor": 5
}
